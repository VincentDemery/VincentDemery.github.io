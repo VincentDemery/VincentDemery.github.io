{
 "cells": [
  {
   "cell_type": "markdown",
   "metadata": {},
   "source": [
    "# Première séance : Introduction à python et aux notebooks IPython\n",
    "\n",
    "## 1. Prise en main des notebooks IPython\n",
    "\n",
    "Les notebooks sont composés de cellules contenant du code (en python) ou du texte (simple ou formaté avec les balisages Markdown). IPython permet de faire des calculs interactifs en python. Nous utilisons la version 3 de python. Lorsque la cellule se termine par un calcul, ou une variable seule, lors de l’évaluation IPython affiche `Out[n]:` puis sa valeur. S’il s’agit d’instructions, il n’affiche rien (mais elles sont effectuées).\n",
    "\n",
    "On peut éditer une cellule en double-cliquant dessus, et l’évaluer en tapant **Ctrl+Entrée** (on utilisera aussi souvent **Maj.+Entrée** pour évaluer et passer à la cellule suivante). Les boutons dans la barre d’outil vous seront très utiles, survolez-les pour faire apparaître une infobulle si leur pictogramme n’est pas assez clair. N’oubliez pas de sauvegarder de temps en temps votre travail, même si IPython fait des sauvegardes automatiques régulières.\n",
    "\n",
    "**(a)** Éditer les trois cellules d’exemples ci-dessous, les modifier et les valider\n",
    "\n",
    "**(b)** Rajouter une cellule de code (avant le début de la partie 2) où vous affichez la valeur de $12a+5$ (en ayant au préalable validé la cellule où $a$ est initialisée).\n",
    "\n",
    "**(c)** Rééditer une des cellules de code, valider le résultat, et observer que le numéro après `In` et `Out` est incrémenté. On peut revenir sur une cellule précédente, cela prendra en compte les modifications effectuées dans des cellules ayant déjà été validées, même si ce n’est pas fait dans l’ordre.\n",
    "\n",
    "Le bouton *Restart Kernel* dans la barre d’outil permet de réinitialiser le notebook, ce compteur est remis à zéro et il faudra de nouveau réévaluer les cellules. L’idéal est donc que quand vous rendiez votre TP, on puisse valider toutes les cellules dans l’ordre. Il est donc recommander d’effectuer cette opération de temps en temps pour vérifier que tout se valide bien.\n"
   ]
  },
  {
   "cell_type": "code",
   "execution_count": null,
   "metadata": {},
   "outputs": [],
   "source": [
    "## Cellule Markdown\n",
    "Voici une cellule qui aurait dû être considérée comme du texte, mais qui est enregistrée comme du code.\n",
    "Changez le type de cellule pour « Markdown » à la place de « Code », vous verrez alors un changement dans la coloration syntaxique.\n",
    "\n",
    "Modifiez son contenu à votre convenance et évaluez-la.\n",
    "### TP du binôme composé de Ada Lovelace et Alan Turing — Groupe 12.\n"
   ]
  },
  {
   "cell_type": "code",
   "execution_count": null,
   "metadata": {},
   "outputs": [],
   "source": [
    "# Ici, une cellule de code en python. Les commentaires commencent par un croisillon #.\n",
    "a = 12\n",
    "a**2 + 12 # L'opérateur puissance s'écrit **\n",
    "# La cellule peut paraître déjà évaluée, mais ce n’est pas le cas.\n",
    "# Les résultats des précédentes évaluations (avant l’ouverture du notebook) restent affichés.\n",
    "# Mais si la cellule n’est pas validée de nouveau, la variable a ne sera pas affectée."
   ]
  },
  {
   "cell_type": "markdown",
   "metadata": {},
   "source": [
    "Voici enfin une cellule Markdown déjà validée. Double-cliquez pour pouvoir l’éditer et voir la syntaxe.\n",
    "Dans le balisage [Markdown](http://fr.wikipedia.org/wiki/Markdown) (comme pour cette cellule), on peut mettre le texte en forme simplement, en *italique*, ou en **gras**.\n",
    "On peut faire\n",
    "\n",
    "+ des listes\n",
    "+ des listes numérotées :\n",
    "     1. Des équations\n",
    "     2. Des [liens](http://fr.wikipedia.org/wiki/Markdown)\n",
    "\n",
    "Les équations peuvent être directement données au format $\\LaTeX$, on peut donc par exemple écrire $x_i$ au milieu d’une ligne en utilisant `$`, ou bien écrire des équations plus complètes en utilisant `$$` :\n",
    "\n",
    "$$\\sum_{n=1}^{\\infty}\\frac1{n^2}=\\frac{\\pi^2}6. $$"
   ]
  },
  {
   "cell_type": "markdown",
   "metadata": {},
   "source": [
    "**(d)** Prise en main avancée : Utilisez les menus *Help → User Interface Tour* et *Help → Keyboard Shortcuts* pour une utilisation au clavier. On peut naviguer entre les cellules avec les flèches, et utiliser un grand nombre de raccourcis en mode *Commandes* (utiliser **Échap** pour passer en mode *Commandes* ou **Entrée** pour le mode *Édition*). "
   ]
  },
  {
   "cell_type": "markdown",
   "metadata": {},
   "source": [
    "## 2. Bases de Python\n",
    "\n",
    "### Structure du python\n",
    "La base de la structure du code en python est l’indentation.\n",
    "\n",
    "**(a)** Voici un exemple de boucle `for` et d’utilisation de liste (la fonction `append` rajoute un élément). Valider la cellule et comprendre ce qu’elle fait. "
   ]
  },
  {
   "cell_type": "code",
   "execution_count": null,
   "metadata": {},
   "outputs": [],
   "source": [
    "listecarres = []\n",
    "for i in range(4):\n",
    "    # Boucle for, l'indentation commence après les deux points\n",
    "    # Elle se fait automatiquement dans IPython.\n",
    "    listecarres.append(i**2)\n",
    "    print(\"Itération n°\",i)\n",
    "\n",
    "# Lorsqu’on revient à l’indentation précédente, on n’est plus dans la boucle\n",
    "print(listecarres)"
   ]
  },
  {
   "cell_type": "markdown",
   "metadata": {},
   "source": [
    "**Attention :** en Python les indices commencent à ***ZÉRO*** !\n",
    "\n",
    "**(b)** Valider la cellule suivante, lire le code d’erreur **en entier** et essayer de le comprendre pour pouvoir débugger le code. On remarquera au passage une autre façon de faire une boucle `for` en parcourant une liste arbitraire."
   ]
  },
  {
   "cell_type": "code",
   "execution_count": null,
   "metadata": {},
   "outputs": [],
   "source": [
    "for i in [12,15,6,20]\n",
    "    if i > 12:\n",
    "        print(i,\"est vraiment plus grand que 12\")\n",
    "     else:\n",
    "        print(\"12 est plus grand que\",i)\n",
    "print(\"Bravo\")"
   ]
  },
  {
   "cell_type": "markdown",
   "metadata": {},
   "source": [
    "**(c)** Utiliser la touche **Tab** pour l’autocomplétion (qui vous donne la fonction `range`) et **Maj.+Tab** pour l’aide sur les fonctions. Si on le fait deux fois de suite, cela étend l’infobulle d’aide. Calculer par exemple $\\sum_{i=3}^{12} i(i+1)$ en utilisant `range` et une boucle `for`."
   ]
  },
  {
   "cell_type": "code",
   "execution_count": null,
   "metadata": {},
   "outputs": [],
   "source": [
    "rang"
   ]
  },
  {
   "cell_type": "markdown",
   "metadata": {},
   "source": [
    "Le code en python se veut très lisible, voici **quelques astuces pratiques** :"
   ]
  },
  {
   "cell_type": "code",
   "execution_count": null,
   "metadata": {},
   "outputs": [],
   "source": [
    "# Définition de plusieurs valeurs en même temps\n",
    "A,B = 12,15"
   ]
  },
  {
   "cell_type": "code",
   "execution_count": null,
   "metadata": {},
   "outputs": [],
   "source": [
    "# Opérateurs arithmétiques += -= *=\n",
    "A += 3\n",
    "# Permettent d’éviter les formules du genre x = x + 1.\n",
    "B *= 2\n",
    "print(A,B)\n",
    "# Utilisation de ** (puissance) pour calculer des racines\n",
    "2**.5"
   ]
  },
  {
   "cell_type": "markdown",
   "metadata": {},
   "source": [
    "**(d)** Création de listes par compréhension. C’est une des manières de créer une liste de façon lisible. Valider l’exemple suivant."
   ]
  },
  {
   "cell_type": "code",
   "execution_count": null,
   "metadata": {},
   "outputs": [],
   "source": [
    "listecarres = [i**2 for i in range(0,12)]\n",
    "listecarres[5]"
   ]
  },
  {
   "cell_type": "markdown",
   "metadata": {},
   "source": [
    "### Les différents types de variables.\n",
    "\n",
    "On utilisera principalement, pour ce qui est de la base de python, des flottants, des entiers (qui ne sont pas limités en python), des booléens (valant `True` ou `False`), des chaines de caractères et des listes, qui peuvent contenir des éléments de différents types. La fonction `print` que l’on a déjà rencontrée permet d’afficher de manière lisible le contenu des différentes variables.\n",
    "\n",
    "**(e)** Comprendre le résultat des calculs en [virgule flottante](http://fr.wikipedia.org/wiki/Virgule_flottante#Norme_IEEE_754) ci-dessous. Observer (et expérimenter) les différentes possibilités d’opérations sur les variables de différents types."
   ]
  },
  {
   "cell_type": "code",
   "execution_count": null,
   "metadata": {},
   "outputs": [],
   "source": [
    "print((.2+.005)*5-1.025)\n",
    "for i in [2,5,12,20]:\n",
    "    print((1+10**(-i)-1)/10**(-i))"
   ]
  },
  {
   "cell_type": "code",
   "execution_count": null,
   "metadata": {},
   "outputs": [],
   "source": [
    "print([1,2.,3] + [\"douze\"] * 2 + [3 > 12, 4 <= 12])\n",
    "print(\"texte \" + \"copie \" * 2 +\n",
    "      \"chaine avec l'apostrophe \\n\" + \n",
    "      'ou les \"guillemets\" droits' ) \n",
    "# Remarquer la séparation en plusiers ligne, cela ne pose pas de problème.\n",
    "print(\"Formatage du nombre 2π : %.3f\"%6.283185)\n",
    "\n",
    "print(12/3,12//3,12/5,12.//5.)"
   ]
  },
  {
   "cell_type": "markdown",
   "metadata": {},
   "source": [
    "## 3. Utilisation de bibliothèques logicielles pour le calcul scientifique.\n",
    "\n",
    "### Import des différents composants\n",
    "\n",
    "Pour faire du calcul scientifique avec Python, il est nécessaire d'importer certaines librairies, comme **Numpy** (manipulation de tableaux) ou **Matplotlib** (création de graphiques). La commande `%pylab inline` ci-dessous permet de les charger.\n",
    "\n",
    "Pour aller plus loin la librairie **Scipy** contient de nombres fonctions de calcul scientifique ; il est possible de ne charger qu'une seule fonction."
   ]
  },
  {
   "cell_type": "code",
   "execution_count": null,
   "metadata": {},
   "outputs": [],
   "source": [
    "# si Numpy n'est pas chargé, l'évaluation de cette cellule renvoie une erreur.\n",
    "sin(1)"
   ]
  },
  {
   "cell_type": "code",
   "execution_count": null,
   "metadata": {},
   "outputs": [],
   "source": [
    "%pylab inline"
   ]
  },
  {
   "cell_type": "code",
   "execution_count": null,
   "metadata": {},
   "outputs": [],
   "source": [
    "sin(1)"
   ]
  },
  {
   "cell_type": "markdown",
   "metadata": {},
   "source": [
    "### Fonctions de Numpy que l’on utilisera\n",
    "\n",
    "**(a)** Le plus souvent, les tableaux peuvent être manipulés comme des nombres, les opérations étant effectuées élément par élément. Étudier les exemples suivants."
   ]
  },
  {
   "cell_type": "code",
   "execution_count": null,
   "metadata": {},
   "outputs": [],
   "source": [
    "A = array([[1,2],[3,4]])\n",
    "print(A)\n",
    "print(A**2)\n",
    "print(A+1)\n",
    "print(A**2-A)"
   ]
  },
  {
   "cell_type": "markdown",
   "metadata": {},
   "source": [
    "**(b)** La syntaxe d'indexation des éléments d'un tableau permet d'accéder facilement à une partie du tableau. Comprendre ce que font les opérations suivantes sur le tableau `A`, puis calculer le tableau d'éléments $(A_1-A_0)^2,(A_2-A_1)^2,…$."
   ]
  },
  {
   "cell_type": "code",
   "execution_count": null,
   "metadata": {},
   "outputs": [],
   "source": [
    "A = random.rand(10)\n",
    "print(A, '\\n')\n",
    "print(A[3:7])\n",
    "print(A[:5])\n",
    "print(A[6:-1])\n",
    "print(A[1::2])"
   ]
  },
  {
   "cell_type": "markdown",
   "metadata": {},
   "source": [
    "**(c)** Pour analyser des données, on utilise très souvent des tableaux. Numpy permet de faire des opérations sur ces tableaux beaucoup plus rapidement que ce qu'on pourrait faire avec une boucle `for`, ainsi il faut **toujours** utiliser Numpy dès qu'on manipule de grands tableaux (plusieurs milliers voire millions de lignes).\n",
    "\n",
    "La cellule suivante permet de déterminer le temps que mis pour additionner les $10^7$ éléments d'un tableau de nombres aléatoires avec une boucle `for`. Calculer la somme de ces éléments à l'aide de la fonction `sum` et déterminer le gain de temps."
   ]
  },
  {
   "cell_type": "code",
   "execution_count": null,
   "metadata": {},
   "outputs": [],
   "source": [
    "import time\n",
    "\n",
    "N = 1e7\n",
    "# Création du tableau de nombres aléatoires\n",
    "A = random.rand(N) \n",
    "\n",
    "t1 = time.time()\n",
    "\n",
    "# Calcul de la somme\n",
    "sa2 = 0\n",
    "for i in range(N) : \n",
    "    sa2 += A[i]\n",
    "    \n",
    "t2 = time.time()\n",
    "t2 - t1"
   ]
  },
  {
   "cell_type": "markdown",
   "metadata": {},
   "source": [
    "### Les graphiques\n",
    "On utilise matplotlib pour tracer les graphiques. Là aussi, les fonctions sont directement accessible grâce à la directive `%pylab` initiale.\n",
    "N’hésitez pas à utiliser l’aide interactive, en tapant `plot(`, puis **Maj.+Tab**, pour obtenir la syntaxe et les différentes options possibles. On peut aussi demander explicitement de l’aide sur une fonction.\n",
    "\n",
    "**(d)** La fonction de base la plus utile pour obtenir des graphiques est brobablement `linspace`. Obtenir de l’aide en validant la cellule ci-dessous puis faire de même pour la fonction `plot`. Tracer votre courbe favorite en vous inspirant de l’exemple."
   ]
  },
  {
   "cell_type": "code",
   "execution_count": null,
   "metadata": {},
   "outputs": [],
   "source": [
    "linspace?"
   ]
  },
  {
   "cell_type": "code",
   "execution_count": null,
   "metadata": {},
   "outputs": [],
   "source": [
    "# Affichage de graphiques\n",
    "X=linspace(0,3,100)\n",
    "# Les fonctions usuelles fonctionnent aussi sur les tableaux\n",
    "plot(X,sin(5*X)*exp(-X))\n",
    "Y = linspace(0,3,4)\n",
    "plot(Y,cos(Y),'-o')\n",
    "axhline(0,color=\"black\",lw=.5)\n",
    "show()\n"
   ]
  },
  {
   "cell_type": "markdown",
   "metadata": {},
   "source": [
    "Différentes options sont possibles pour le tracé de graphiques : voir des exemples sur le site de matplotlib: http://matplotlib.org/gallery.html"
   ]
  },
  {
   "cell_type": "markdown",
   "metadata": {},
   "source": [
    "## 4. Les fonctions\n",
    "\n",
    "On utilisera les fonctions. Étudier la construction de la fonction `dichotomie` ci-dessous ; en particulier, il est souvent pratique d'utiliser des arguments optionnels."
   ]
  },
  {
   "cell_type": "code",
   "execution_count": null,
   "metadata": {},
   "outputs": [],
   "source": [
    "carre=1/2\n",
    "\n",
    "# Définition d’une fonction (remarquer toujours l’indentation)\n",
    "def fonction1(x):\n",
    "    return x**2-carre # Toutes les variables définies hors de la fonction sont considérées comme globales"
   ]
  },
  {
   "cell_type": "code",
   "execution_count": null,
   "metadata": {},
   "outputs": [],
   "source": [
    "# Les fonctions peuvent être des arguments, et on peut donner des valeurs par défaut\n",
    "def dichotomie(f,x0=0,x1=1,tolerance=1e-6):\n",
    "    xg,xd = x0,x1\n",
    "    sg,sd = sign(f(xg)),sign(f(xd))\n",
    "    while (xd - xg) > tolerance:\n",
    "        xm = (xg + xd) / 2.\n",
    "        sm = sign(f(xm))\n",
    "        if sm == sd:\n",
    "            xd,sd = xm,sm\n",
    "        else:\n",
    "            xg,sg = xm,sm\n",
    "    return xm\n"
   ]
  },
  {
   "cell_type": "code",
   "execution_count": null,
   "metadata": {},
   "outputs": [],
   "source": [
    "y = dichotomie(sin,3,4)\n",
    "\n",
    "# On peut intervertir l’ordre des arguments en écrivant le nom original de l’argument avant sa valeur\n",
    "x = dichotomie(fonction1,tolerance=1e-9) \n",
    "\n",
    "print(x,y)\n",
    "\n",
    "carre = 1/3 # Si on modifie une variable globale, la fonction en tient compte.\n",
    "x = dichotomie(fonction1) \n",
    "print(x**2)\n"
   ]
  }
 ],
 "metadata": {
  "kernelspec": {
   "display_name": "Python 3",
   "language": "python",
   "name": "python3"
  },
  "language_info": {
   "codemirror_mode": {
    "name": "ipython",
    "version": 3
   },
   "file_extension": ".py",
   "mimetype": "text/x-python",
   "name": "python",
   "nbconvert_exporter": "python",
   "pygments_lexer": "ipython3",
   "version": "3.9.2"
  }
 },
 "nbformat": 4,
 "nbformat_minor": 1
}
